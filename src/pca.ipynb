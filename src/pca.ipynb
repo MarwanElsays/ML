{
 "cells": [
  {
   "cell_type": "code",
   "execution_count": 2,
   "metadata": {},
   "outputs": [],
   "source": [
    "from PIL import Image\n",
    "import torch\n",
    "from torch import Tensor, linalg\n",
    "import numpy as np"
   ]
  },
  {
   "cell_type": "code",
   "execution_count": 21,
   "metadata": {},
   "outputs": [],
   "source": [
    "image_count_per_person = 5\n",
    "person_count = 40\n",
    "images = [Image.open(f\"../data/s{j + 1}/{i + 1}.pgm\") for i in range(image_count_per_person) for j in range(person_count)]\n",
    "\n",
    "a = np.array(images)\n",
    "a.resize((image_count_per_person * person_count, images[0].width * images[0].height))\n",
    "a = Tensor(a)"
   ]
  },
  {
   "cell_type": "markdown",
   "metadata": {},
   "source": [
    "PCA(data: Tensor, $\\alpha$: float) -> Tensor"
   ]
  },
  {
   "cell_type": "code",
   "execution_count": 7,
   "metadata": {},
   "outputs": [],
   "source": [
    "def power_method(a: Tensor, tol: float, max_iterations: int) -> tuple[float, Tensor]:\n",
    "    x = torch.ones((len(a), 1))\n",
    "    k = 1.0\n",
    "\n",
    "    error = 100.0\n",
    "    iterations = 0\n",
    "    while error > tol and iterations < max_iterations:\n",
    "        iterations += 1\n",
    "\n",
    "        w = a @ x\n",
    "        k = ((w.T @ x) / (x.T @ x))[0]\n",
    "\n",
    "        error = torch.norm(w / torch.norm(w) - x)\n",
    "\n",
    "        x = w / torch.norm(w)\n",
    "\n",
    "    return (k.numpy()[0], x)\n",
    "\n",
    "\n",
    "def largest_covariance_eigenvalues(covariance: Tensor, variance: float, alpha: float):\n",
    "    eigen_values = []\n",
    "    eigen_vectors = Tensor(torch.Size((covariance.shape[1], 0)))\n",
    "    sum = 0\n",
    "    while sum < variance * alpha:\n",
    "        eigenvalue, eigenvector = power_method(covariance, 1e-6, 1000)\n",
    "        eigen_values.append(eigenvalue)\n",
    "        eigen_vectors = torch.hstack((eigen_vectors, eigenvector))\n",
    "        covariance -= eigenvalue * eigenvector * eigenvector.T\n",
    "        sum += eigenvalue\n",
    "\n",
    "    return eigen_values, eigen_vectors"
   ]
  },
  {
   "cell_type": "code",
   "execution_count": 22,
   "metadata": {},
   "outputs": [],
   "source": [
    "def pca1(data: Tensor, alpha: float) -> Tensor:\n",
    "    centered_data: Tensor = data - data.mean(0)\n",
    "    covariance: Tensor = 1 / len(data) * centered_data.T @ centered_data\n",
    "\n",
    "    eigen_values, eigen_vectors = linalg.eigh(covariance)\n",
    "\n",
    "    # eigen_values, eigen_vectors = largest_covariance_eigenvalues(covariance, variance, alpha)\n",
    "\n",
    "    variance: float = covariance.trace().numpy()\n",
    "    projected_variance = 0.0\n",
    "\n",
    "    i = len(eigen_values) - 1\n",
    "    while i >= 0 and projected_variance < alpha * variance:\n",
    "        projected_variance += eigen_values[i]\n",
    "        i -= 1\n",
    "\n",
    "    eigen_vectors = torch.fliplr(eigen_vectors[:, i + 1:])\n",
    "\n",
    "    return data @ eigen_vectors"
   ]
  },
  {
   "cell_type": "code",
   "execution_count": 13,
   "metadata": {},
   "outputs": [],
   "source": [
    "def pca3(data: Tensor, alpha: float) -> Tensor:\n",
    "    centered_data: Tensor = data - data.mean(0)\n",
    "    covariance: Tensor = 1 / len(data) * centered_data.T @ centered_data\n",
    "    print('here')\n",
    "    variance: float = covariance.trace().numpy()\n",
    "    eigen_values, eigen_vectors = largest_covariance_eigenvalues(covariance, variance, alpha)\n",
    "    print(len(eigen_values))\n",
    "    return data @ eigen_vectors"
   ]
  },
  {
   "cell_type": "code",
   "execution_count": 23,
   "metadata": {},
   "outputs": [
    {
     "name": "stdout",
     "output_type": "stream",
     "text": [
      "here\n",
      "33\n"
     ]
    },
    {
     "data": {
      "text/plain": [
       "tensor([[ 8630.7793,  8739.8477, -1752.8748,  ...,    60.7056,   -49.2612,\n",
       "          -295.8193],\n",
       "        [ 8186.0869,  6870.6509, -1500.2716,  ...,    44.9240,  -430.6197,\n",
       "           247.5276],\n",
       "        [ 7187.0371,  8077.3491,   523.0039,  ...,   193.0413,   179.6431,\n",
       "            36.3750],\n",
       "        ...,\n",
       "        [ 5287.4883,  8266.7285,   572.9722,  ...,   377.7743,    60.6791,\n",
       "          -245.8417],\n",
       "        [ 4618.3794,  5242.9062,   810.6750,  ...,   107.4536,   113.2103,\n",
       "           251.2421],\n",
       "        [ 8148.7295,  9163.2666,  1008.1982,  ...,   226.1054,   306.7886,\n",
       "           102.3078]])"
      ]
     },
     "execution_count": 23,
     "metadata": {},
     "output_type": "execute_result"
    }
   ],
   "source": [
    "pca3(a, 0.8)"
   ]
  },
  {
   "cell_type": "code",
   "execution_count": 20,
   "metadata": {},
   "outputs": [
    {
     "name": "stdout",
     "output_type": "stream",
     "text": [
      "torch.Size([10304, 44])\n"
     ]
    },
    {
     "data": {
      "text/plain": [
       "tensor([[-9.3552e+03, -7.9087e+03, -2.4372e+03,  ..., -2.9994e+02,\n",
       "          1.6506e+02, -5.6371e+02],\n",
       "        [-8.6998e+03, -6.1307e+03, -1.9186e+03,  ..., -5.3984e+00,\n",
       "          1.7888e+02, -4.3669e+02],\n",
       "        [-7.9627e+03, -7.2608e+03, -8.3477e+01,  ...,  2.8649e+02,\n",
       "          1.7648e+02, -3.6640e+02],\n",
       "        ...,\n",
       "        [-6.0040e+03, -7.8446e+03, -9.6201e+01,  ...,  2.3931e+02,\n",
       "          1.6761e+02, -7.4175e+02],\n",
       "        [-5.1594e+03, -4.7759e+03,  6.7011e+01,  ...,  6.4504e+02,\n",
       "          4.3894e+02, -5.7031e+02],\n",
       "        [-8.3588e+03, -7.3135e+03,  1.4888e+03,  ...,  2.6679e+01,\n",
       "          2.1479e+02, -3.1819e+02]])"
      ]
     },
     "execution_count": 20,
     "metadata": {},
     "output_type": "execute_result"
    }
   ],
   "source": [
    "pca1(a, 0.8)"
   ]
  }
 ],
 "metadata": {
  "kernelspec": {
   "display_name": "Python 3",
   "language": "python",
   "name": "python3"
  },
  "language_info": {
   "codemirror_mode": {
    "name": "ipython",
    "version": 3
   },
   "file_extension": ".py",
   "mimetype": "text/x-python",
   "name": "python",
   "nbconvert_exporter": "python",
   "pygments_lexer": "ipython3",
   "version": "3.11.0"
  }
 },
 "nbformat": 4,
 "nbformat_minor": 2
}
