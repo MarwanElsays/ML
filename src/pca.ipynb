{
 "cells": [
  {
   "cell_type": "code",
   "execution_count": 6,
   "metadata": {},
   "outputs": [],
   "source": [
    "from PIL import Image, ImageOps\n",
    "import torch\n",
    "from torch import Tensor, linalg\n",
    "import numpy as np\n",
    "from IPython.display import Latex\n",
    "import matplotlib.pyplot as plt\n",
    "import os"
   ]
  },
  {
   "cell_type": "markdown",
   "metadata": {},
   "source": [
    "# Generate the Data Matrix and the Label vector\n",
    "Read data into torch.Tensor"
   ]
  },
  {
   "cell_type": "code",
   "execution_count": 7,
   "metadata": {},
   "outputs": [],
   "source": [
    "torch.set_default_dtype(torch.float64)\n",
    "\n",
    "image_count_per_person = 10\n",
    "person_count = 40\n",
    "images = [Image.open(f\"../data/s{j + 1}/{i + 1}.pgm\") for j in range(person_count) for i in range(image_count_per_person)]\n",
    "\n",
    "all_data = np.array(images)\n",
    "all_data.resize((image_count_per_person * person_count, images[0].width * images[0].height))\n",
    "all_data = Tensor(all_data)\n",
    "\n",
    "labels = torch.tensor([i for i in range(person_count) for _ in range(image_count_per_person)])"
   ]
  },
  {
   "cell_type": "markdown",
   "metadata": {},
   "source": [
    "# Split the Dataset into Training and Test sets\n",
    "Split dataset into training and test data taking the even indexed rows for testing and the odd indexed rows for training"
   ]
  },
  {
   "cell_type": "code",
   "execution_count": 8,
   "metadata": {},
   "outputs": [],
   "source": [
    "odd_indices = [i for i in range(len(all_data)) if i % 2 == 1]\n",
    "even_indices = [i for i in range(len(all_data)) if i % 2 == 0]\n",
    "\n",
    "training_data = all_data[odd_indices]\n",
    "test_data = all_data[even_indices]\n",
    "\n",
    "training_labels = labels[odd_indices]\n",
    "test_labels = labels[even_indices]"
   ]
  },
  {
   "cell_type": "markdown",
   "metadata": {},
   "source": [
    "# Classification using PCA\n",
    "## Original PCA Algorithm\n",
    "Running Time: $O(d^3)$ to calculate the eigen values and eigen vectors of $\\Sigma_{d \\times d}$ matrix\\\n",
    "\\\n",
    "![pca](../res/pca.PNG)"
   ]
  },
  {
   "cell_type": "code",
   "execution_count": 4,
   "metadata": {},
   "outputs": [],
   "source": [
    "def pca1(data: Tensor, alpha: float) -> Tensor:\n",
    "    centered_data: Tensor = data - data.mean(0)\n",
    "    covariance: Tensor = 1 / len(data) * centered_data.T @ centered_data\n",
    "\n",
    "    eigen_values, eigen_vectors = linalg.eigh(covariance)\n",
    "\n",
    "    variance: float = covariance.trace().numpy()\n",
    "    projected_variance = 0.0\n",
    "\n",
    "    i = len(eigen_values) - 1\n",
    "    while i >= 0 and projected_variance < alpha * variance:\n",
    "        projected_variance += eigen_values[i]\n",
    "        i -= 1\n",
    "\n",
    "    eigen_vectors = torch.fliplr(eigen_vectors[:, i + 1:])\n",
    "\n",
    "    return data @ eigen_vectors"
   ]
  },
  {
   "cell_type": "code",
   "execution_count": 5,
   "metadata": {},
   "outputs": [],
   "source": [
    "# pca1(training_data, 0.8)"
   ]
  },
  {
   "cell_type": "markdown",
   "metadata": {},
   "source": [
    "## Enhanced PCA algorithm\n",
    "Running Time: $O(n^3)$ to calculate the eigen values and eigen vectors of $\\frac{1}n\\mathbf{X}_{n \\times d}\\mathbf{X}_{d\\times n}^T$ matrix\\\n",
    "Reference: Section 12.1.4 from C. M. Bishop, Pattern Recognition and Machine Learning"
   ]
  },
  {
   "cell_type": "code",
   "execution_count": 6,
   "metadata": {},
   "outputs": [],
   "source": [
    "def pca2(data: Tensor, alpha: float) -> Tensor:\n",
    "    centered_data = data - data.mean(0)\n",
    "\n",
    "    eigen_values, eigen_vectors = torch.linalg.eig(1 / len(data) * centered_data @ centered_data.T)\n",
    "    eigen_values = eigen_values.real\n",
    "    eigen_vectors = eigen_vectors.real\n",
    "\n",
    "    variance: float = (1 / len(data) * centered_data.T @ centered_data).trace().numpy()\n",
    "    projected_variance = 0.0\n",
    "\n",
    "    idxs = torch.argsort(eigen_values, descending=True)\n",
    "    eigen_values = eigen_values[idxs]\n",
    "    eigen_vectors = eigen_vectors[:, idxs]\n",
    "\n",
    "    i = 0\n",
    "    while i < len(eigen_values) and projected_variance < alpha * variance:\n",
    "        projected_variance += eigen_values[i]\n",
    "        i += 1\n",
    "\n",
    "    new_basis = centered_data.T @ eigen_vectors\n",
    "    new_basis /= torch.sqrt(eigen_values * len(data))\n",
    "\n",
    "    new_basis = new_basis[:, :i]\n",
    "\n",
    "    return new_basis"
   ]
  },
  {
   "cell_type": "code",
   "execution_count": 7,
   "metadata": {},
   "outputs": [],
   "source": [
    "alpha = 0.95\n",
    "\n",
    "new_basis = pca2(training_data, alpha)\n",
    "\n",
    "# project training data\n",
    "projected_training_data = training_data @ new_basis"
   ]
  },
  {
   "cell_type": "markdown",
   "metadata": {},
   "source": [
    "Classify test data using KNN"
   ]
  },
  {
   "cell_type": "code",
   "execution_count": 12,
   "metadata": {},
   "outputs": [],
   "source": [
    "def knn(test_data: Tensor, training_data: Tensor, k: int):\n",
    "    distance_matrix = torch.cdist(test_data, training_data)\n",
    "    indices = torch.argsort(distance_matrix, dim=1)\n",
    "    return indices[:, :k]"
   ]
  },
  {
   "cell_type": "code",
   "execution_count": 25,
   "metadata": {},
   "outputs": [
    {
     "name": "stdout",
     "output_type": "stream",
     "text": [
      "tensor(6272.0381)\n"
     ]
    }
   ],
   "source": [
    "result_labels = training_labels[knn(test_data @ new_basis, projected_training_data, 1)].mode(keepdim=True)[0]"
   ]
  },
  {
   "cell_type": "code",
   "execution_count": 10,
   "metadata": {},
   "outputs": [
    {
     "data": {
      "text/latex": [
       "for $\\alpha$ = 0.95, accuracy = 0.935"
      ],
      "text/plain": [
       "<IPython.core.display.Latex object>"
      ]
     },
     "execution_count": 10,
     "metadata": {},
     "output_type": "execute_result"
    }
   ],
   "source": [
    "Latex(rf\"for $\\alpha$ = {alpha}, accuracy = {1 - torch.count_nonzero(result_labels - test_labels[:, None]) / len(result_labels)}\")"
   ]
  },
  {
   "cell_type": "code",
   "execution_count": 44,
   "metadata": {},
   "outputs": [],
   "source": [
    "def pca_classify(training_data: Tensor, test_data: Tensor, training_labels: Tensor, test_labels: Tensor, alpha: float, k: int) -> float:\n",
    "    new_basis = pca2(training_data, alpha)\n",
    "    projected_training_data = training_data @ new_basis\n",
    "    result_labels = training_labels[knn(test_data @ new_basis, projected_training_data, k)].mode(keepdim=True)[0]\n",
    "    return 1 - torch.count_nonzero(result_labels - test_labels[:, None]) / len(result_labels)"
   ]
  },
  {
   "cell_type": "code",
   "execution_count": 12,
   "metadata": {},
   "outputs": [
    {
     "data": {
      "text/latex": [
       "for $\\alpha$ = 0.8, accuracy = 0.9299999999999999"
      ],
      "text/plain": [
       "<IPython.core.display.Latex object>"
      ]
     },
     "execution_count": 12,
     "metadata": {},
     "output_type": "execute_result"
    }
   ],
   "source": [
    "alpha = 0.8\n",
    "accuracy = pca_classify(training_data, test_data, training_labels, test_labels, alpha, 1)\n",
    "Latex(rf\"for $\\alpha$ = {alpha}, accuracy = {accuracy}\")"
   ]
  },
  {
   "cell_type": "code",
   "execution_count": 13,
   "metadata": {},
   "outputs": [
    {
     "data": {
      "text/latex": [
       "for $\\alpha$ = 0.85, accuracy = 0.94"
      ],
      "text/plain": [
       "<IPython.core.display.Latex object>"
      ]
     },
     "execution_count": 13,
     "metadata": {},
     "output_type": "execute_result"
    }
   ],
   "source": [
    "alpha = 0.85\n",
    "accuracy = pca_classify(training_data, test_data, training_labels, test_labels, alpha, 1)\n",
    "Latex(rf\"for $\\alpha$ = {alpha}, accuracy = {accuracy}\")"
   ]
  },
  {
   "cell_type": "code",
   "execution_count": 14,
   "metadata": {},
   "outputs": [
    {
     "data": {
      "text/latex": [
       "for $\\alpha$ = 0.9, accuracy = 0.945"
      ],
      "text/plain": [
       "<IPython.core.display.Latex object>"
      ]
     },
     "execution_count": 14,
     "metadata": {},
     "output_type": "execute_result"
    }
   ],
   "source": [
    "alpha = 0.9\n",
    "accuracy = pca_classify(training_data, test_data, training_labels, test_labels, alpha, 1)\n",
    "Latex(rf\"for $\\alpha$ = {alpha}, accuracy = {accuracy}\")"
   ]
  },
  {
   "cell_type": "code",
   "execution_count": 15,
   "metadata": {},
   "outputs": [
    {
     "data": {
      "text/latex": [
       "for $\\alpha$ = 0.95, accuracy = 0.935"
      ],
      "text/plain": [
       "<IPython.core.display.Latex object>"
      ]
     },
     "execution_count": 15,
     "metadata": {},
     "output_type": "execute_result"
    }
   ],
   "source": [
    "alpha = 0.95\n",
    "accuracy = pca_classify(training_data, test_data, training_labels, test_labels, alpha, 1)\n",
    "Latex(rf\"for $\\alpha$ = {alpha}, accuracy = {accuracy}\")"
   ]
  },
  {
   "cell_type": "markdown",
   "metadata": {},
   "source": [
    "It is clear that the accuracy increases by increasing $\\alpha$ ($\\alpha \\propto$ accuracy).\\\n",
    "However, the accuracy seems to decreases as $\\alpha$ goes from 0.9 to 0.95"
   ]
  },
  {
   "cell_type": "markdown",
   "metadata": {},
   "source": [
    "# Classification using LDA\n",
    "## Original LDA Algorithm\n",
    "Running Time: $O(d^3)$ to calculate the eigen values and eigen vectors of $\\Sigma_{d \\times d}$ matrix\\\n",
    "\\\n",
    "![lda](../res/lda.PNG)"
   ]
  },
  {
   "cell_type": "code",
   "execution_count": 13,
   "metadata": {},
   "outputs": [],
   "source": [
    "def LDA(D , y):\n",
    "    n_features = len(D[0])\n",
    "    classes = torch.unique(y)\n",
    "    n_classes = len(classes)\n",
    "\n",
    "    overall_mean = torch.mean(D ,dim=0)\n",
    "\n",
    "    # between-class scatter\n",
    "    Sb = torch.zeros((n_features , n_features))\n",
    "\n",
    "    # within-class scatter\n",
    "    S = torch.zeros((n_features , n_features))\n",
    "\n",
    "    for i in classes:\n",
    "        Kth_class = D[y == i]\n",
    "        cur_mean = torch.mean(Kth_class , dim=0)\n",
    "       \n",
    "        # calculate between class scatter matrix\n",
    "        centered_kth_mean = (cur_mean - overall_mean).unsqueeze(1)\n",
    "        Sb += (Kth_class.shape[0] * Tensor.matmul(centered_kth_mean,centered_kth_mean.T))\n",
    "\n",
    "        # calculate within class scatter matrix\n",
    "        centered_kth_class = Kth_class - cur_mean\n",
    "        S += Tensor.matmul(centered_kth_class.T,centered_kth_class)\n",
    "\n",
    "\n",
    "    #compute matrix (S^-1*B) \n",
    "    A = linalg.pinv(S) @ Sb\n",
    "    \n",
    "    #Compute the eignValues and eignVectors\n",
    "    eigenvalues, eigenvectors = linalg.eig(A)\n",
    "    eigenvalues, eigenvectors =eigenvalues.real, eigenvectors.real\n",
    "    \n",
    "    #Sort the eignValues and eignVectors\n",
    "    idxs = torch.argsort(eigenvalues,descending=True)\n",
    "    eigenvectors = eigenvectors[:,idxs]\n",
    "\n",
    "    return eigenvectors[:,:n_classes-1]"
   ]
  },
  {
   "cell_type": "code",
   "execution_count": 14,
   "metadata": {},
   "outputs": [],
   "source": [
    "def lda_classify(training_data, test_data, training_labels, test_labels, k):\n",
    "    projection_matrix = LDA(training_data,training_labels) \n",
    "    projected_training_matrix = training_data @ projection_matrix\n",
    "    projected_test_matrix = test_data @ projection_matrix\n",
    "    \n",
    "    result_labels = training_labels[knn(projected_test_matrix,projected_training_matrix, k)].mode(keepdim=True)[0]\n",
    "    return 1 - torch.count_nonzero(result_labels - test_labels[:, None]) / len(result_labels)"
   ]
  },
  {
   "cell_type": "code",
   "execution_count": 15,
   "metadata": {},
   "outputs": [],
   "source": [
    "k = 1\n",
    "\n",
    "accuracy = lda_classify(training_data, test_data, training_labels, test_labels, k)\n",
    "print(f\"accuracy = {accuracy}\")"
   ]
  },
  {
   "cell_type": "markdown",
   "metadata": {},
   "source": [
    "# Classifier Tuning\n",
    "## PCA using $\\alpha$ = 0.9"
   ]
  },
  {
   "cell_type": "code",
   "execution_count": 16,
   "metadata": {},
   "outputs": [
    {
     "data": {
      "text/plain": [
       "<matplotlib.collections.PathCollection at 0x1a51a12d110>"
      ]
     },
     "execution_count": 16,
     "metadata": {},
     "output_type": "execute_result"
    },
    {
     "data": {
      "image/png": "[encoded data removed]",
      "text/plain": [
       "<Figure size 640x480 with 1 Axes>"
      ]
     },
     "metadata": {},
     "output_type": "display_data"
    }
   ],
   "source": [
    "ks = [1, 3, 5, 7]\n",
    "alpha = 0.9\n",
    "\n",
    "accuracies = [pca_classify(training_data, test_data, training_labels, test_labels, alpha, k) for k in ks]\n",
    "plt.xlabel(\"k\")\n",
    "plt.ylabel(\"accuracy\")\n",
    "plt.scatter(ks, accuracies)"
   ]
  },
  {
   "cell_type": "markdown",
   "metadata": {},
   "source": [
    "Using KNN classification with k = 1 gives the most accurate results"
   ]
  },
  {
   "cell_type": "markdown",
   "metadata": {},
   "source": [
    "## LDA"
   ]
  },
  {
   "cell_type": "code",
   "execution_count": null,
   "metadata": {},
   "outputs": [],
   "source": [
    "ks = [1, 3, 5, 7]\n",
    "\n",
    "accuracies = [lda_classify(training_data, test_data, training_labels, test_labels, k) for k in ks]\n",
    "plt.xlabel(\"k\")\n",
    "plt.ylabel(\"accuracy\")\n",
    "plt.scatter(ks, accuracies)"
   ]
  },
  {
   "cell_type": "markdown",
   "metadata": {},
   "source": [
    "![pca](../res/output.PNG)"
   ]
  },
  {
   "cell_type": "markdown",
   "metadata": {},
   "source": [
    "Using KNN classification with k = 1 gives the most accurate results"
   ]
  },
  {
   "cell_type": "markdown",
   "metadata": {},
   "source": [
    "# Compare vs Non-Face Images\n",
    "Read non-face data (iris dataset)"
   ]
  },
  {
   "cell_type": "code",
   "execution_count": 36,
   "metadata": {},
   "outputs": [],
   "source": [
    "iris_path_1 = \"../data/iris/iris-setosa\"\n",
    "iris_path_2 = \"../data/iris/iris-versicolour\"\n",
    "iris_path_3 = \"../data/iris/iris-virginica\"\n",
    "\n",
    "iris_images = [Image.open(f\"{iris_path_1}/{filename}\") for filename in os.listdir(iris_path_1)]\n",
    "iris_images.extend([Image.open(f\"{iris_path_2}/{filename}\") for filename in os.listdir(iris_path_2)])\n",
    "iris_images.extend([Image.open(f\"{iris_path_3}/{filename}\") for filename in os.listdir(iris_path_3)])\n",
    "iris_images = [ImageOps.grayscale(iris_images[i].resize((92, 112))) for i in range(len(iris_images))]\n",
    "\n",
    "iris_data = np.array(iris_images)\n",
    "iris_data.resize((iris_data.shape[0], iris_data.shape[1] * iris_data.shape[2]))\n",
    "iris_data = Tensor(iris_data)"
   ]
  },
  {
   "cell_type": "markdown",
   "metadata": {},
   "source": [
    "Split dataset and combine with face dataset"
   ]
  },
  {
   "cell_type": "code",
   "execution_count": 182,
   "metadata": {},
   "outputs": [],
   "source": [
    "iris_training_indices = [i for i in range(len(iris_data)) if i % 2 == 0]\n",
    "iris_test_indices = [i for i in range(len(iris_data)) if i % 2 == 1]\n",
    "\n",
    "iris_training_data = iris_data[iris_training_indices]\n",
    "iris_test_data = iris_data[iris_test_indices]\n",
    "\n",
    "iris_training_labels = Tensor([-1 for _ in range(len(iris_training_indices))])\n",
    "iris_test_labels = Tensor([-1 for _ in range(len(iris_test_indices))])\n",
    "\n",
    "face_non_face_training_data = torch.vstack((training_data, iris_training_data))\n",
    "face_non_face_training_labels = torch.hstack((training_labels, iris_training_labels))"
   ]
  },
  {
   "cell_type": "markdown",
   "metadata": {},
   "source": [
    "## Classify using PCA"
   ]
  },
  {
   "cell_type": "code",
   "execution_count": 185,
   "metadata": {},
   "outputs": [
    {
     "name": "stdout",
     "output_type": "stream",
     "text": [
      "accuracy at detecting non-faces = 0.9380952380952381\n",
      "accuracy at detecting faces = 0.935\n"
     ]
    }
   ],
   "source": [
    "alpha = 0.95\n",
    "k = 1\n",
    "\n",
    "non_face_accuracy = pca_classify(face_non_face_training_data, iris_test_data, face_non_face_training_labels, iris_test_labels, alpha, k)\n",
    "face_accuracy = pca_classify(face_non_face_training_data, test_data, face_non_face_training_labels, test_labels, alpha, k)\n",
    "print(f\"accuracy at detecting non-faces = {non_face_accuracy}\")\n",
    "print(f\"accuracy at detecting faces = {face_accuracy}\")"
   ]
  },
  {
   "cell_type": "markdown",
   "metadata": {},
   "source": [
    "## Using different number of non-faces"
   ]
  },
  {
   "cell_type": "code",
   "execution_count": 48,
   "metadata": {},
   "outputs": [],
   "source": [
    "alpha = 0.95\n",
    "k = 1\n",
    "\n",
    "number_of_non_faces = [50, 100, 150, 200, 250, 300, 350, 400]\n",
    "\n",
    "non_face_accuracies = []\n",
    "face_accuracies = []\n",
    "\n",
    "for no in number_of_non_faces:\n",
    "    iris_training_indices = [i for i in range(len(iris_data)) if i % 2 == 0]\n",
    "    iris_test_indices = [i for i in range(len(iris_data)) if i % 2 == 1]\n",
    "\n",
    "    iris_training_data = iris_data[:no]\n",
    "    iris_test_data = iris_data[no:]\n",
    "\n",
    "    iris_training_labels = Tensor([-1 for _ in range(len(iris_training_data))])\n",
    "    iris_test_labels = Tensor([-1 for _ in range(len(iris_test_data))])\n",
    "\n",
    "    face_non_face_training_data = torch.vstack((training_data, iris_training_data))\n",
    "    face_non_face_training_labels = torch.hstack((training_labels, iris_training_labels))\n",
    "\n",
    "    non_face_accuracies.append(pca_classify(face_non_face_training_data, iris_test_data, face_non_face_training_labels, iris_test_labels, alpha, k))\n",
    "    face_accuracies.append(pca_classify(face_non_face_training_data, test_data, face_non_face_training_labels, test_labels, alpha, k))"
   ]
  },
  {
   "cell_type": "code",
   "execution_count": 49,
   "metadata": {},
   "outputs": [
    {
     "data": {
      "text/plain": [
       "<matplotlib.collections.PathCollection at 0x2d28f5f1e10>"
      ]
     },
     "execution_count": 49,
     "metadata": {},
     "output_type": "execute_result"
    },
    {
     "data": {
      "image/png": "[encoded data removed]",
      "text/plain": [
       "<Figure size 640x480 with 1 Axes>"
      ]
     },
     "metadata": {},
     "output_type": "display_data"
    }
   ],
   "source": [
    "plt.scatter(number_of_non_faces, non_face_accuracies)"
   ]
  },
  {
   "cell_type": "code",
   "execution_count": 50,
   "metadata": {},
   "outputs": [
    {
     "data": {
      "text/plain": [
       "<matplotlib.collections.PathCollection at 0x2d28f5ea190>"
      ]
     },
     "execution_count": 50,
     "metadata": {},
     "output_type": "execute_result"
    },
    {
     "data": {
      "image/png": "[encoded data removed]",
      "text/plain": [
       "<Figure size 640x480 with 1 Axes>"
      ]
     },
     "metadata": {},
     "output_type": "display_data"
    }
   ],
   "source": [
    "plt.scatter(number_of_non_faces, face_accuracies)"
   ]
  },
  {
   "cell_type": "markdown",
   "metadata": {},
   "source": [
    "## Classify using LDA\n",
    "\\\n",
    "Using 40 eigen vectors"
   ]
  },
  {
   "cell_type": "code",
   "execution_count": 51,
   "metadata": {},
   "outputs": [
    {
     "ename": "RuntimeError",
     "evalue": "torch.linalg.eig: input tensor should not contain infs or NaNs.",
     "output_type": "error",
     "traceback": [
      "\u001b[1;31m---------------------------------------------------------------------------\u001b[0m",
      "\u001b[1;31mRuntimeError\u001b[0m                              Traceback (most recent call last)",
      "Cell \u001b[1;32mIn[51], line 3\u001b[0m\n\u001b[0;32m      1\u001b[0m k \u001b[38;5;241m=\u001b[39m \u001b[38;5;241m1\u001b[39m\n\u001b[1;32m----> 3\u001b[0m non_face_accuracy \u001b[38;5;241m=\u001b[39m \u001b[43mlda_classify\u001b[49m\u001b[43m(\u001b[49m\u001b[43mface_non_face_training_data\u001b[49m\u001b[43m,\u001b[49m\u001b[43m \u001b[49m\u001b[43miris_test_data\u001b[49m\u001b[43m,\u001b[49m\u001b[43m \u001b[49m\u001b[43mface_non_face_training_labels\u001b[49m\u001b[43m,\u001b[49m\u001b[43m \u001b[49m\u001b[43miris_test_labels\u001b[49m\u001b[43m,\u001b[49m\u001b[43m \u001b[49m\u001b[43mk\u001b[49m\u001b[43m)\u001b[49m\n\u001b[0;32m      4\u001b[0m face_accuracy \u001b[38;5;241m=\u001b[39m lda_classify(face_non_face_training_data, test_data, face_non_face_training_labels, test_labels, k)\n\u001b[0;32m      5\u001b[0m \u001b[38;5;28mprint\u001b[39m(\u001b[38;5;124mf\u001b[39m\u001b[38;5;124m\"\u001b[39m\u001b[38;5;124maccuracy at detecting non-faces = \u001b[39m\u001b[38;5;132;01m{\u001b[39;00mnon_face_accuracy\u001b[38;5;132;01m}\u001b[39;00m\u001b[38;5;124m\"\u001b[39m)\n",
      "Cell \u001b[1;32mIn[31], line 2\u001b[0m, in \u001b[0;36mlda_classify\u001b[1;34m(training_data, test_data, training_labels, test_labels, k)\u001b[0m\n\u001b[0;32m      1\u001b[0m \u001b[38;5;28;01mdef\u001b[39;00m \u001b[38;5;21mlda_classify\u001b[39m(training_data, test_data, training_labels, test_labels, k):\n\u001b[1;32m----> 2\u001b[0m     projection_matrix \u001b[38;5;241m=\u001b[39m \u001b[43mLDA\u001b[49m\u001b[43m(\u001b[49m\u001b[43mtraining_data\u001b[49m\u001b[43m,\u001b[49m\u001b[43mtraining_labels\u001b[49m\u001b[43m)\u001b[49m \n\u001b[0;32m      3\u001b[0m     projected_training_matrix \u001b[38;5;241m=\u001b[39m training_data \u001b[38;5;241m@\u001b[39m projection_matrix\n\u001b[0;32m      4\u001b[0m     projected_test_matrix \u001b[38;5;241m=\u001b[39m test_data \u001b[38;5;241m@\u001b[39m projection_matrix\n",
      "Cell \u001b[1;32mIn[30], line 30\u001b[0m, in \u001b[0;36mLDA\u001b[1;34m(D, y)\u001b[0m\n\u001b[0;32m     27\u001b[0m A \u001b[38;5;241m=\u001b[39m linalg\u001b[38;5;241m.\u001b[39mpinv(S) \u001b[38;5;241m@\u001b[39m Sb\n\u001b[0;32m     29\u001b[0m \u001b[38;5;66;03m#Compute the eignValues and eignVectors\u001b[39;00m\n\u001b[1;32m---> 30\u001b[0m eigenvalues, eigenvectors \u001b[38;5;241m=\u001b[39m \u001b[43mlinalg\u001b[49m\u001b[38;5;241;43m.\u001b[39;49m\u001b[43meig\u001b[49m\u001b[43m(\u001b[49m\u001b[43mA\u001b[49m\u001b[43m)\u001b[49m\n\u001b[0;32m     31\u001b[0m eigenvalues, eigenvectors \u001b[38;5;241m=\u001b[39meigenvalues\u001b[38;5;241m.\u001b[39mreal, eigenvectors\u001b[38;5;241m.\u001b[39mreal\n\u001b[0;32m     33\u001b[0m \u001b[38;5;66;03m#Sort the eignValues and eignVectors\u001b[39;00m\n",
      "\u001b[1;31mRuntimeError\u001b[0m: torch.linalg.eig: input tensor should not contain infs or NaNs."
     ]
    }
   ],
   "source": [
    "k = 1\n",
    "\n",
    "non_face_accuracy = lda_classify(face_non_face_training_data, iris_test_data, face_non_face_training_labels, iris_test_labels, k)\n",
    "face_accuracy = lda_classify(face_non_face_training_data, test_data, face_non_face_training_labels, test_labels, k)\n",
    "print(f\"accuracy at detecting non-faces = {non_face_accuracy}\")\n",
    "print(f\"accuracy at detecting faces = {face_accuracy}\")"
   ]
  },
  {
   "cell_type": "markdown",
   "metadata": {},
   "source": [
    "# Bonus\n",
    "## PCA with 7 training images and 3 test images\n",
    "\\\n",
    "Splitting dataset into training and test data"
   ]
  },
  {
   "cell_type": "code",
   "execution_count": 59,
   "metadata": {},
   "outputs": [],
   "source": [
    "training_indices = [i for i in range(len(all_data)) if i % 10 == 0 or i % 10 == 1 or i % 10 == 3 or i % 10 == 4 or i % 10 == 6 or i % 10 == 7 or i % 10 == 9]\n",
    "test_indices = [i for i in range(len(all_data)) if i % 10 == 2 or i % 10 == 5 or i % 10 == 8]\n",
    "\n",
    "training_data = all_data[training_indices]\n",
    "test_data = all_data[test_indices]\n",
    "\n",
    "training_labels = labels[training_indices]\n",
    "test_labels = labels[test_indices]"
   ]
  },
  {
   "cell_type": "code",
   "execution_count": 18,
   "metadata": {},
   "outputs": [
    {
     "data": {
      "text/latex": [
       "for $\\alpha$ = 0.8, accuracy = 0.9833333333333333"
      ],
      "text/plain": [
       "<IPython.core.display.Latex object>"
      ]
     },
     "execution_count": 18,
     "metadata": {},
     "output_type": "execute_result"
    }
   ],
   "source": [
    "alpha = 0.8\n",
    "accuracy = pca_classify(training_data, test_data, test_labels, alpha, 1)\n",
    "Latex(rf\"for $\\alpha$ = {alpha}, accuracy = {accuracy}\")"
   ]
  },
  {
   "cell_type": "code",
   "execution_count": 19,
   "metadata": {},
   "outputs": [
    {
     "data": {
      "text/latex": [
       "for $\\alpha$ = 0.85, accuracy = 0.9833333333333333"
      ],
      "text/plain": [
       "<IPython.core.display.Latex object>"
      ]
     },
     "execution_count": 19,
     "metadata": {},
     "output_type": "execute_result"
    }
   ],
   "source": [
    "alpha = 0.85\n",
    "accuracy = pca_classify(training_data, test_data, test_labels, alpha, 1)\n",
    "Latex(rf\"for $\\alpha$ = {alpha}, accuracy = {accuracy}\")"
   ]
  },
  {
   "cell_type": "code",
   "execution_count": 20,
   "metadata": {},
   "outputs": [
    {
     "data": {
      "text/latex": [
       "for $\\alpha$ = 0.9, accuracy = 0.9833333333333333"
      ],
      "text/plain": [
       "<IPython.core.display.Latex object>"
      ]
     },
     "execution_count": 20,
     "metadata": {},
     "output_type": "execute_result"
    }
   ],
   "source": [
    "alpha = 0.9\n",
    "accuracy = pca_classify(training_data, test_data, test_labels, alpha, 1)\n",
    "Latex(rf\"for $\\alpha$ = {alpha}, accuracy = {accuracy}\")"
   ]
  },
  {
   "cell_type": "code",
   "execution_count": 21,
   "metadata": {},
   "outputs": [
    {
     "data": {
      "text/latex": [
       "for $\\alpha$ = 0.95, accuracy = 0.9833333333333333"
      ],
      "text/plain": [
       "<IPython.core.display.Latex object>"
      ]
     },
     "execution_count": 21,
     "metadata": {},
     "output_type": "execute_result"
    }
   ],
   "source": [
    "alpha = 0.95\n",
    "accuracy = pca_classify(training_data, test_data, test_labels, alpha, 1)\n",
    "Latex(rf\"for $\\alpha$ = {alpha}, accuracy = {accuracy}\")"
   ]
  },
  {
   "cell_type": "markdown",
   "metadata": {},
   "source": [
    "## LDA with 7 training images and 3 test images"
   ]
  },
  {
   "cell_type": "code",
   "execution_count": null,
   "metadata": {},
   "outputs": [],
   "source": [
    "accuracy = lda_classify(training_data, test_data, test_labels, 1)\n",
    "Latex(rf\"for $\\alpha$ = {alpha}, accuracy = {accuracy}\")"
   ]
  }
 ],
 "metadata": {
  "kernelspec": {
   "display_name": "Python 3",
   "language": "python",
   "name": "python3"
  },
  "language_info": {
   "codemirror_mode": {
    "name": "ipython",
    "version": 3
   },
   "file_extension": ".py",
   "mimetype": "text/x-python",
   "name": "python",
   "nbconvert_exporter": "python",
   "pygments_lexer": "ipython3",
   "version": "3.12.0"
  }
 },
 "nbformat": 4,
 "nbformat_minor": 2
}
