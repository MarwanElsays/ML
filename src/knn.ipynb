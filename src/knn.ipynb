{
 "cells": [
  {
   "cell_type": "code",
   "execution_count": 1,
   "metadata": {},
   "outputs": [],
   "source": [
    "import torch\n",
    "import numpy as np\n",
    "from collections import Counter\n"
   ]
  },
  {
   "cell_type": "code",
   "execution_count": 2,
   "metadata": {},
   "outputs": [],
   "source": [
    "def knn(data,test,labels,k):\n",
    "    \n",
    "    n_test = len(test)\n",
    "    n_data = len(data)\n",
    "    k_smallest = torch.Tensor(n_test)\n",
    "    for i,test_point in enumerate(test):\n",
    "        distances = torch.Tensor(n_data)\n",
    "        for j,data_point in enumerate(data):\n",
    "            distances[j] = torch.linalg.norm(test_point - data_point)\n",
    "        \n",
    "        idx = torch.argsort(distances)[:k]\n",
    "        req_labels = labels[idx]\n",
    "        k_smallest[i] = torch.tensor(Counter(np.array(req_labels)).most_common(1)[0][0])\n",
    "        \n",
    "    return k_smallest  "
   ]
  },
  {
   "cell_type": "code",
   "execution_count": 3,
   "metadata": {},
   "outputs": [],
   "source": [
    "data =  [\n",
    "            [ 2.0, 4.0],[ 3.0, 3.0],[ 5.0, 4.0],[ 5.0, 6.0],[ 5.0, 8.0],[ 6.0, 4.0],\n",
    "            [ 6.0, 7.0],[ 7.0, 3.0],[ 7.0, 4.0],[ 8.0, 2.0],[ 9.0, 4.0],[10.0, 6.0],\n",
    "            [10.0, 7.0],[10.0, 8.0],[11.0, 5.0],[11.0, 8.0],[12.0, 7.0],[13.0, 6.0],[13.0, 7.0],\n",
    "            [14.0, 6.0],[15.0, 4.0]\n",
    "        ]         \n",
    "    \n",
    "test = [\n",
    "    [ 3.0, 4.0],[ 6.0, 5.0],[15.0, 5.0]\n",
    "]\n",
    "\n",
    "labels = [1., 1., 2., 2., 2., 2., 2., 2., 2., 2., 2., 0., 0., 0., 0., 0., 0., 0., 0., 0., 0.]"
   ]
  },
  {
   "cell_type": "code",
   "execution_count": 6,
   "metadata": {},
   "outputs": [
    {
     "data": {
      "text/plain": [
       "tensor([1., 2., 0.])"
      ]
     },
     "execution_count": 6,
     "metadata": {},
     "output_type": "execute_result"
    }
   ],
   "source": [
    "knn(torch.tensor(data),torch.tensor(test),torch.tensor(labels),3)"
   ]
  }
 ],
 "metadata": {
  "kernelspec": {
   "display_name": "Python 3",
   "language": "python",
   "name": "python3"
  },
  "language_info": {
   "codemirror_mode": {
    "name": "ipython",
    "version": 3
   },
   "file_extension": ".py",
   "mimetype": "text/x-python",
   "name": "python",
   "nbconvert_exporter": "python",
   "pygments_lexer": "ipython3",
   "version": "3.12.0"
  }
 },
 "nbformat": 4,
 "nbformat_minor": 2
}
