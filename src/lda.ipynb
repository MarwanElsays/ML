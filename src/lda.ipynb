{
 "cells": [
  {
   "cell_type": "code",
   "execution_count": 3,
   "metadata": {},
   "outputs": [],
   "source": [
    "import numpy as np"
   ]
  },
  {
   "cell_type": "code",
   "execution_count": 4,
   "metadata": {},
   "outputs": [],
   "source": [
    "def LDA(D , y):\n",
    "    n_features = len(D[0])\n",
    "    n_classes = len(y)\n",
    "\n",
    "    overall_mean = np.mean(D , axis=0)\n",
    "\n",
    "    # between-class scatter\n",
    "    Sb = np.zeros((n_features , n_features))\n",
    "\n",
    "    # within-class scatter\n",
    "    S = np.zeros((n_features , n_features))\n",
    "\n",
    "    for i in range(1 , n_classes + 1):\n",
    "        Kth_class = D[y == i]\n",
    "        cur_mean = np.mean(Kth_class , axis=0)\n",
    "        Sb += np.outer((cur_mean - overall_mean) , (cur_mean - overall_mean)) * (Kth_class.shape[0])\n",
    "        S += np.dot((Kth_class - cur_mean).T , (Kth_class - cur_mean))\n",
    "\n",
    "    A = np.linalg.inv(S).dot(Sb)\n",
    "    eigenvalues, eigenvectors = np.linalg.eig(A)\n",
    "    idxs = np.argsort(eigenvalues)[::-1]\n",
    "    eigenvectors = eigenvectors[:,idxs]\n",
    "\n",
    "    return eigenvectors[0:n_classes]"
   ]
  }
 ],
 "metadata": {
  "kernelspec": {
   "display_name": "Python 3",
   "language": "python",
   "name": "python3"
  },
  "language_info": {
   "codemirror_mode": {
    "name": "ipython",
    "version": 3
   },
   "file_extension": ".py",
   "mimetype": "text/x-python",
   "name": "python",
   "nbconvert_exporter": "python",
   "pygments_lexer": "ipython3",
   "version": "3.12.0"
  }
 },
 "nbformat": 4,
 "nbformat_minor": 2
}
